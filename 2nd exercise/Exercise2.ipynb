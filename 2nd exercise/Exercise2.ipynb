{
 "cells": [
  {
   "cell_type": "markdown",
   "metadata": {},
   "source": [
    "## Practical Course 2\n",
    "\n",
    "\n"
   ]
  },
  {
   "cell_type": "markdown",
   "metadata": {},
   "source": [
    "# First task: Read Files\n",
    "Read csv and excel files.\n",
    "You can use csv module or pandas\n",
    "\n",
    "            import pandas as pd\n",
    "            pd.read_excel('Book1.xlsx', index_col=0)\n",
    "            \n",
    "            \n",
    "            pd.read_csv('Book1.csv', delimiter=';')  \n",
    "            \n",
    "            \n",
    "More information: https://pandas.pydata.org/docs/reference/api/pandas.read_excel.html"
   ]
  },
  {
   "cell_type": "code",
   "execution_count": null,
   "metadata": {},
   "outputs": [],
   "source": []
  },
  {
   "cell_type": "markdown",
   "metadata": {},
   "source": [
    "# Second task: Read images and Display images\n",
    "Most popular Python modules relevant in image processing are:\n",
    "numpy:A powerful library for manipulating arrays and matrices\n",
    "scipy:Provides functions for performing higher-order mathematical operations such as filtering,etc.\n",
    "matplotlib:Provides functions for plotting and other forms of visualization.\n",
    "Python Imaging Library:rovides functions for basic image reading, writing and processing.\n",
    "scikits: add-on package for scipy. The modules in scikit are meant to be added to scipy after development\n",
    "\n",
    "\n",
    "import modules Example:\n",
    "\n",
    "from datetime import *  #import all functions from the module ; where date is a filenemae and contains the function #today\n",
    "print(date.today())\n",
    "\n",
    "#otherwise\n",
    "import datetime\n",
    "print(datetime.date.today())\n",
    "\n",
    "\n",
    "import numpy as np # import a module and rename it\n",
    "np.ones([2,1])\n",
    "\n",
    "\n",
    "\n",
    "\n",
    "Please read an image into an ndarray and converte it to a grayscale image.\n",
    "You can use matplotlib (https://matplotlib.org/stable/api/_as_gen/matplotlib.pyplot.imshow.html), PIL (https://pillow.readthedocs.io/en/stable/handbook/tutorial.html) or openCV (https://learnopencv.com/read-display-and-write-an-image-using-opencv/)\n",
    "\n",
    "\n",
    "## Important fact: most image processing modules need ndarray; So  if you use PIL you have to convert the image to numpy\n"
   ]
  },
  {
   "cell_type": "code",
   "execution_count": null,
   "metadata": {},
   "outputs": [],
   "source": [
    "\n",
    "\n"
   ]
  },
  {
   "cell_type": "markdown",
   "metadata": {},
   "source": [
    "# Task 3: Read Dicom\n",
    "install the reader: \n",
    "    !pip install pydicom\n",
    "        \n",
    "        from pydicom import dcmread\n",
    "        fpath=\"1-001.dcm\"\n",
    "        ds = dcmread(fpath)\n",
    "\n",
    "\n",
    "        # Normal mode:\n",
    "        print()\n",
    "        print(f\"File path........: {fpath}\")\n",
    "        print(f\"SOP Class........: {ds.SOPClassUID} ({ds.SOPClassUID.name})\")\n",
    "        print()\n",
    "\n",
    "        pat_name = ds.PatientName\n",
    "        print(f\"Patient's Name...: {pat_name.family_comma_given()}\")\n",
    "        print(f\"Patient ID.......: {ds.PatientID}\")\n",
    "        print(f\"Modality.........: {ds.Modality}\")\n",
    "        print(f\"Study Date.......: {ds.StudyDate}\")\n",
    "        print(f\"Image size.......: {ds.Rows} x {ds.Columns}\")\n",
    "\n",
    "\n",
    "        # use .get() if not sure the item exists, and want a default value if missing\n",
    "        print(f\"Slice location...: {ds.get('SliceLocation', '(missing)')}\")\n",
    "        plt.imshow(ds.pixel_array, cmap=plt.cm.gray)\n",
    "        plt.show()\n"
   ]
  },
  {
   "cell_type": "code",
   "execution_count": null,
   "metadata": {},
   "outputs": [],
   "source": [
    "\n",
    "\n",
    "\n",
    "\n"
   ]
  },
  {
   "cell_type": "markdown",
   "metadata": {},
   "source": [
    "# Task 4: Write images \n",
    "\n",
    "Example: # cv2.imwrite will take an ndarray. \n",
    "        \n",
    "        cv2.write('file_name', img)\n",
    "\n"
   ]
  },
  {
   "cell_type": "markdown",
   "metadata": {},
   "source": []
  },
  {
   "cell_type": "markdown",
   "metadata": {},
   "source": [
    "# Task 6: Analyse the Code\n",
    "\n",
    "You can use any image for this code, which is referred to here as X.png.\n",
    "Answer the questions:\n",
    "\n",
    "\n",
    "    a) What happens in the two source codes?\n",
    "    b) Which parameters can you change and how does the output change?\n",
    "    c) Which parameters can cause problems in the source codes?"
   ]
  },
  {
   "cell_type": "code",
   "execution_count": null,
   "metadata": {},
   "outputs": [],
   "source": [
    "# matplotlib inline\n",
    "import matplotlib.pyplot as plt\n",
    "import matplotlib.image as mpimg\n",
    "import numpy as np\n",
    "def imag_X(img,n,m=1):\n",
    "    if n==1:\n",
    "        tiled_img =img\n",
    "    else:\n",
    "        lst_imgs=[]\n",
    "        for i in range (n):\n",
    "            lst_imgs.append(img)\n",
    "        tiled_img=np.concatenate(lst_imgs, axis=1)\n",
    "    if m>1:\n",
    "        lst_imgs=[]\n",
    "        for i in range (m):\n",
    "            lst_imgs.append(tiled_img)\n",
    "        tiled_img=np.concatenate(lst_imgs, axis=0)\n",
    "    return tiled_img\n",
    "\n",
    "basic_pattern=mpimg.imread('test.png')\n",
    "decorators_img=imag_X(basic_pattern,2,3)\n",
    "plt.axis('off')\n",
    "plt.imshow(decorators_img)\n",
    "\n",
    "        \n",
    "            "
   ]
  },
  {
   "cell_type": "markdown",
   "metadata": {},
   "source": [
    "# Task 7: Analyse the code\n",
    "\n",
    "You can use any image for this code, which is referred to here as X.png.\n",
    "Answer the questions:\n",
    "\n",
    "    a) What happens in the two source codes?\n",
    "    b) Which parameters can you change and how does the output change?\n",
    "    c) Which parameters can cause problems in the source codes?"
   ]
  },
  {
   "cell_type": "code",
   "execution_count": null,
   "metadata": {},
   "outputs": [],
   "source": [
    "basic_pattern  = mpimg.imread ('test.png' )\n",
    "print(basic_pattern.shape)\n",
    "cropped  =  basic_pattern[200:350,200:400]\n",
    "plt.axis('off')\n",
    "plt.imshow( cropped )\n"
   ]
  }
 ],
 "metadata": {
  "kernelspec": {
   "display_name": "Python 3 (ipykernel)",
   "language": "python",
   "name": "python3"
  },
  "language_info": {
   "codemirror_mode": {
    "name": "ipython",
    "version": 3
   },
   "file_extension": ".py",
   "mimetype": "text/x-python",
   "name": "python",
   "nbconvert_exporter": "python",
   "pygments_lexer": "ipython3",
   "version": "3.10.2"
  }
 },
 "nbformat": 4,
 "nbformat_minor": 2
}
