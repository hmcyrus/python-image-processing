{
 "cells": [
  {
   "cell_type": "markdown",
   "metadata": {},
   "source": [
    "## Practical Course 3\n",
    "\n",
    "\n"
   ]
  },
  {
   "cell_type": "markdown",
   "metadata": {},
   "source": [
    "# First task: Read an image and convert it to a gray scale image\n",
    "\n",
    "you can use matplotlib: imgGray = 0.2989 * R + 0.5870 * G + 0.1140 * B\n",
    "you can use skimage: skimage.io.imread(fname=\"test.png\", as_gray=True)\n",
    "or opencv: cv.cvtColor(Farbbild, cv.COLOR_BGR2GRAY)"
   ]
  },
  {
   "cell_type": "code",
   "execution_count": null,
   "metadata": {},
   "outputs": [],
   "source": []
  },
  {
   "cell_type": "markdown",
   "metadata": {},
   "source": [
    "# Second task: create histograms of grayscale images\n",
    "numpy: np.histogram(image, bins=256, range=(0, 1))\n",
    "opencv: cv.calcHist([I], [0], None, [256],[0,256])\n",
    "matplolib: plt.hist(image.flatten(), bins=256, range=(0, 1)) \n",
    "\n"
   ]
  },
  {
   "cell_type": "code",
   "execution_count": null,
   "metadata": {},
   "outputs": [],
   "source": [
    "\n",
    "\n"
   ]
  },
  {
   "cell_type": "markdown",
   "metadata": {},
   "source": [
    "# Third task: create histograms of color images\n",
    "numpy: np.histogram(image, bins=256, range=(0, 1))\n",
    "opencv: cv.calcHist([I], [0], None, [256],[0,256])\n",
    "matplolib: plt.hist(image.flatten(), bins=256, range=(0, 1)) \n",
    "\n"
   ]
  },
  {
   "cell_type": "code",
   "execution_count": null,
   "metadata": {},
   "outputs": [],
   "source": []
  },
  {
   "cell_type": "markdown",
   "metadata": {},
   "source": [
    "# 4th task: Change the bin size of the histograms\n",
    "numpy: np.histogram(image, bins=256, range=(0, 1))\n",
    "opencv: cv.calcHist([I], [0], None, [256],[0,256])\n",
    "matplolib: plt.hist(image.flatten(), bins=256, range=(0, 1)) "
   ]
  },
  {
   "cell_type": "code",
   "execution_count": null,
   "metadata": {},
   "outputs": [],
   "source": []
  }
 ],
 "metadata": {
  "kernelspec": {
   "display_name": "tf_gpu",
   "language": "python",
   "name": "tf_gpu"
  },
  "language_info": {
   "codemirror_mode": {
    "name": "ipython",
    "version": 3
   },
   "file_extension": ".py",
   "mimetype": "text/x-python",
   "name": "python",
   "nbconvert_exporter": "python",
   "pygments_lexer": "ipython3",
   "version": "3.8.5"
  }
 },
 "nbformat": 4,
 "nbformat_minor": 2
}
